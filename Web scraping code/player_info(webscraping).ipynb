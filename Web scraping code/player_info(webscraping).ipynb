{
 "cells": [
  {
   "cell_type": "code",
   "execution_count": 1,
   "id": "ae460b42",
   "metadata": {},
   "outputs": [],
   "source": [
    "#importing required libraries\n",
    "from selenium import webdriver\n",
    "from selenium.webdriver.common.by import By\n",
    "from selenium.webdriver.edge.service import Service\n",
    "from webdriver_manager.microsoft import EdgeChromiumDriverManager\n",
    "import time\n",
    "import pandas as pd\n",
    "from bs4 import BeautifulSoup\n",
    "import re"
   ]
  },
  {
   "cell_type": "code",
   "execution_count": 2,
   "id": "c3de9e65",
   "metadata": {},
   "outputs": [],
   "source": [
    "s = Service(\"C:\\msedgedriver.exe\")\n",
    "driver = webdriver.Edge(service= s)\n",
    "driver.get(\"https://www.espncricinfo.com/series/icc-men-s-t20-world-cup-2022-23-1298134/squads\")\n",
    "#page url we need to scrape\n",
    "driver.maximize_window()"
   ]
  },
  {
   "cell_type": "code",
   "execution_count": 3,
   "id": "516083a3",
   "metadata": {},
   "outputs": [],
   "source": [
    "soup = BeautifulSoup(driver.page_source, 'lxml') #parsing the webpage"
   ]
  },
  {
   "cell_type": "code",
   "execution_count": 4,
   "id": "824a40ec",
   "metadata": {},
   "outputs": [],
   "source": [
    "all_teams= []\n",
    "data = soup.find_all(\"span\",{\"class\": \"ds-text-title-xs ds-font-bold ds-text-typo ds-underline ds-decoration-ui-stroke hover:ds-text-typo-primary hover:ds-decoration-ui-stroke-primary ds-block\"})\n",
    "for value in data:\n",
    "    all_teams.append(value.text)\n",
    "#collecting all team list  "
   ]
  },
  {
   "cell_type": "code",
   "execution_count": 5,
   "id": "4f8abd7a",
   "metadata": {},
   "outputs": [
    {
     "data": {
      "text/plain": [
       "['Afghanistan Squad',\n",
       " 'Australia Squad',\n",
       " 'Bangladesh Squad',\n",
       " 'England Squad',\n",
       " 'India Squad',\n",
       " 'Ireland squad',\n",
       " 'Namibia Squad',\n",
       " 'Netherlands Squad',\n",
       " 'New Zealand Squad',\n",
       " 'Pakistan Squad',\n",
       " 'Scotland squad',\n",
       " 'South Africa Squad',\n",
       " 'Sri Lanka Squad',\n",
       " 'United Arab Emirates Squad',\n",
       " 'West Indies Squad',\n",
       " 'Zimbabwe squad']"
      ]
     },
     "execution_count": 5,
     "metadata": {},
     "output_type": "execute_result"
    }
   ],
   "source": [
    "all_teams"
   ]
  },
  {
   "cell_type": "code",
   "execution_count": 6,
   "id": "78328937",
   "metadata": {},
   "outputs": [],
   "source": [
    "soup = BeautifulSoup(driver.page_source, 'lxml')\n",
    "all_links = soup.find_all(\"a\",{\"class\":\"ds-inline-flex ds-items-start ds-leading-none\"})\n",
    "link_list= [i.get(\"href\") for i in all_links]\n",
    "test= [i.text for i in all_links]\n",
    "link_list= link_list[0:16]\n",
    "#creating list of links for each team which we will click to fetch each team's player data"
   ]
  },
  {
   "cell_type": "code",
   "execution_count": 7,
   "id": "1bad781a",
   "metadata": {},
   "outputs": [],
   "source": [
    "player_name= []\n",
    "player_team=[]\n",
    "playing_role= []\n",
    "batting_style= []\n",
    "bowling_style= []\n",
    "\n",
    "pattern= r\"(?im)^(Age:)(?P<age>.*)(?:Batting\\:\\s+)(?P<bat_style>[\\w\\s]*)(?:BatBowling|Bat\\:\\s+)?(?P<bowl_style>.*)?\"\n",
    "#this pattern will allow us to seperate each player's age, batting style and bowling style\n",
    "for link in link_list:\n",
    "    misc_info= []\n",
    "    new_url= driver.get(\"https://www.espncricinfo.com/\"+link)\n",
    "    time.sleep(2)\n",
    "    new_soup = BeautifulSoup(driver.page_source, 'lxml')\n",
    "    name= new_soup.find_all(\"span\",{\"class\":\"ds-text-title-m ds-font-bold ds-text-typo ds-underline ds-decoration-ui-stroke hover:ds-text-typo-primary hover:ds-decoration-ui-stroke-primary ds-block\"})\n",
    "    player_name.extend([i.text for i in name])\n",
    "    role= new_soup.find_all(\"p\",{\"class\":\"ds-text-tight-l ds-mb-2 ds-mt-1\"})\n",
    "    playing_role.extend([i.text for i in role])\n",
    "    other_info = new_soup.find_all(\"div\",{\"class\":\"ds-text-typo-mid3\"})\n",
    "    misc_info.extend([i.text for i in other_info])\n",
    "    time.sleep(2)\n",
    "    \n",
    "    \n",
    "\n",
    "    for text in misc_info:\n",
    "        match = re.search(pattern, text)\n",
    "        if match:\n",
    "            batting_style.append(match.group(\"bat_style\"))\n",
    "            bowling_style.append(match.group(\"bowl_style\"))\n",
    "    for val in name:\n",
    "        player_team.append(all_teams[link_list.index(link)])\n",
    "           \n",
    "    driver.back()    \n",
    "    time.sleep(2)"
   ]
  },
  {
   "cell_type": "code",
   "execution_count": 8,
   "id": "e1800bf4",
   "metadata": {},
   "outputs": [],
   "source": [
    "player_info_df= pd.DataFrame()"
   ]
  },
  {
   "cell_type": "code",
   "execution_count": 9,
   "id": "fa7da990",
   "metadata": {},
   "outputs": [],
   "source": [
    "player_info_df[\"Player Name\"] = player_name\n",
    "player_info_df[\"Team\"] = player_team\n",
    "player_info_df[\"Playing Role\"] = playing_role\n",
    "player_info_df[\"Batting Style\"] = batting_style\n",
    "player_info_df[\"Bowling Style\"] = bowling_style\n"
   ]
  },
  {
   "cell_type": "code",
   "execution_count": 10,
   "id": "74d1e39b",
   "metadata": {},
   "outputs": [
    {
     "data": {
      "text/plain": [
       "254"
      ]
     },
     "execution_count": 10,
     "metadata": {},
     "output_type": "execute_result"
    }
   ],
   "source": [
    "len(player_team)\n",
    "len(batting_style)\n",
    "len(bowling_style)"
   ]
  },
  {
   "cell_type": "code",
   "execution_count": 11,
   "id": "f8c19a89",
   "metadata": {},
   "outputs": [
    {
     "data": {
      "text/html": [
       "<div>\n",
       "<style scoped>\n",
       "    .dataframe tbody tr th:only-of-type {\n",
       "        vertical-align: middle;\n",
       "    }\n",
       "\n",
       "    .dataframe tbody tr th {\n",
       "        vertical-align: top;\n",
       "    }\n",
       "\n",
       "    .dataframe thead th {\n",
       "        text-align: right;\n",
       "    }\n",
       "</style>\n",
       "<table border=\"1\" class=\"dataframe\">\n",
       "  <thead>\n",
       "    <tr style=\"text-align: right;\">\n",
       "      <th></th>\n",
       "      <th>Player Name</th>\n",
       "      <th>Team</th>\n",
       "      <th>Playing Role</th>\n",
       "      <th>Batting Style</th>\n",
       "      <th>Bowling Style</th>\n",
       "    </tr>\n",
       "  </thead>\n",
       "  <tbody>\n",
       "    <tr>\n",
       "      <th>0</th>\n",
       "      <td>Mohammad Nabi</td>\n",
       "      <td>Afghanistan Squad</td>\n",
       "      <td>Allrounder</td>\n",
       "      <td>Right hand BatBowling</td>\n",
       "      <td>: Right arm Offbreak</td>\n",
       "    </tr>\n",
       "    <tr>\n",
       "      <th>1</th>\n",
       "      <td>Azmatullah Omarzai</td>\n",
       "      <td>Afghanistan Squad</td>\n",
       "      <td>Allrounder</td>\n",
       "      <td>Right hand BatBowling</td>\n",
       "      <td>: Right arm Medium fast</td>\n",
       "    </tr>\n",
       "    <tr>\n",
       "      <th>2</th>\n",
       "      <td>Darwish Rasooli</td>\n",
       "      <td>Afghanistan Squad</td>\n",
       "      <td>Top order Batter</td>\n",
       "      <td>Right hand BatBowling</td>\n",
       "      <td>: Right arm Offbreak</td>\n",
       "    </tr>\n",
       "    <tr>\n",
       "      <th>3</th>\n",
       "      <td>Fareed Ahmad</td>\n",
       "      <td>Afghanistan Squad</td>\n",
       "      <td>Bowler</td>\n",
       "      <td>Left hand BatBowling</td>\n",
       "      <td>: Left arm Fast medium</td>\n",
       "    </tr>\n",
       "    <tr>\n",
       "      <th>4</th>\n",
       "      <td>Fazalhaq Farooqi</td>\n",
       "      <td>Afghanistan Squad</td>\n",
       "      <td>Bowler</td>\n",
       "      <td>Right hand BatBowling</td>\n",
       "      <td>: Left arm Fast medium</td>\n",
       "    </tr>\n",
       "  </tbody>\n",
       "</table>\n",
       "</div>"
      ],
      "text/plain": [
       "          Player Name               Team      Playing Role  \\\n",
       "0       Mohammad Nabi  Afghanistan Squad        Allrounder   \n",
       "1  Azmatullah Omarzai  Afghanistan Squad        Allrounder   \n",
       "2     Darwish Rasooli  Afghanistan Squad  Top order Batter   \n",
       "3        Fareed Ahmad  Afghanistan Squad            Bowler   \n",
       "4    Fazalhaq Farooqi  Afghanistan Squad            Bowler   \n",
       "\n",
       "           Batting Style            Bowling Style  \n",
       "0  Right hand BatBowling     : Right arm Offbreak  \n",
       "1  Right hand BatBowling  : Right arm Medium fast  \n",
       "2  Right hand BatBowling     : Right arm Offbreak  \n",
       "3   Left hand BatBowling   : Left arm Fast medium  \n",
       "4  Right hand BatBowling   : Left arm Fast medium  "
      ]
     },
     "execution_count": 11,
     "metadata": {},
     "output_type": "execute_result"
    }
   ],
   "source": [
    "player_info_df.head(5)"
   ]
  },
  {
   "cell_type": "code",
   "execution_count": 12,
   "id": "ddd4290b",
   "metadata": {},
   "outputs": [],
   "source": [
    "player_info_df[\"Batting Style\"]= player_info_df[\"Batting Style\"].apply(lambda x: x.replace(\"BatBowling\",\"Bat\"))\n",
    "player_info_df[\"Bowling Style\"]= player_info_df[\"Bowling Style\"].apply(lambda x: x.strip(\": \"))\n",
    "player_info_df[\"Team\"]= player_info_df[\"Team\"].apply(lambda x: x.replace(\"Squad\",\"\"))"
   ]
  },
  {
   "cell_type": "code",
   "execution_count": 13,
   "id": "9eb98073",
   "metadata": {},
   "outputs": [
    {
     "data": {
      "text/html": [
       "<div>\n",
       "<style scoped>\n",
       "    .dataframe tbody tr th:only-of-type {\n",
       "        vertical-align: middle;\n",
       "    }\n",
       "\n",
       "    .dataframe tbody tr th {\n",
       "        vertical-align: top;\n",
       "    }\n",
       "\n",
       "    .dataframe thead th {\n",
       "        text-align: right;\n",
       "    }\n",
       "</style>\n",
       "<table border=\"1\" class=\"dataframe\">\n",
       "  <thead>\n",
       "    <tr style=\"text-align: right;\">\n",
       "      <th></th>\n",
       "      <th>Player Name</th>\n",
       "      <th>Team</th>\n",
       "      <th>Playing Role</th>\n",
       "      <th>Batting Style</th>\n",
       "      <th>Bowling Style</th>\n",
       "    </tr>\n",
       "  </thead>\n",
       "  <tbody>\n",
       "    <tr>\n",
       "      <th>0</th>\n",
       "      <td>Mohammad Nabi</td>\n",
       "      <td>Afghanistan</td>\n",
       "      <td>Allrounder</td>\n",
       "      <td>Right hand Bat</td>\n",
       "      <td>Right arm Offbreak</td>\n",
       "    </tr>\n",
       "    <tr>\n",
       "      <th>1</th>\n",
       "      <td>Azmatullah Omarzai</td>\n",
       "      <td>Afghanistan</td>\n",
       "      <td>Allrounder</td>\n",
       "      <td>Right hand Bat</td>\n",
       "      <td>Right arm Medium fast</td>\n",
       "    </tr>\n",
       "    <tr>\n",
       "      <th>2</th>\n",
       "      <td>Darwish Rasooli</td>\n",
       "      <td>Afghanistan</td>\n",
       "      <td>Top order Batter</td>\n",
       "      <td>Right hand Bat</td>\n",
       "      <td>Right arm Offbreak</td>\n",
       "    </tr>\n",
       "    <tr>\n",
       "      <th>3</th>\n",
       "      <td>Fareed Ahmad</td>\n",
       "      <td>Afghanistan</td>\n",
       "      <td>Bowler</td>\n",
       "      <td>Left hand Bat</td>\n",
       "      <td>Left arm Fast medium</td>\n",
       "    </tr>\n",
       "    <tr>\n",
       "      <th>4</th>\n",
       "      <td>Fazalhaq Farooqi</td>\n",
       "      <td>Afghanistan</td>\n",
       "      <td>Bowler</td>\n",
       "      <td>Right hand Bat</td>\n",
       "      <td>Left arm Fast medium</td>\n",
       "    </tr>\n",
       "  </tbody>\n",
       "</table>\n",
       "</div>"
      ],
      "text/plain": [
       "          Player Name          Team      Playing Role   Batting Style  \\\n",
       "0       Mohammad Nabi  Afghanistan         Allrounder  Right hand Bat   \n",
       "1  Azmatullah Omarzai  Afghanistan         Allrounder  Right hand Bat   \n",
       "2     Darwish Rasooli  Afghanistan   Top order Batter  Right hand Bat   \n",
       "3        Fareed Ahmad  Afghanistan             Bowler   Left hand Bat   \n",
       "4    Fazalhaq Farooqi  Afghanistan             Bowler  Right hand Bat   \n",
       "\n",
       "           Bowling Style  \n",
       "0     Right arm Offbreak  \n",
       "1  Right arm Medium fast  \n",
       "2     Right arm Offbreak  \n",
       "3   Left arm Fast medium  \n",
       "4   Left arm Fast medium  "
      ]
     },
     "execution_count": 13,
     "metadata": {},
     "output_type": "execute_result"
    }
   ],
   "source": [
    "player_info_df.head(5)"
   ]
  },
  {
   "cell_type": "code",
   "execution_count": 14,
   "id": "1976ec26",
   "metadata": {},
   "outputs": [],
   "source": [
    "#player_info_df.to_csv(\"C:\\\\Users\\\\Gurjeet\\\\Desktop\\\\End to End Cricket Analytics Project\\\\Webscraped Files\\\\dim_player_info.csv\",encoding=\"utf-8-sig\",index= False)"
   ]
  }
 ],
 "metadata": {
  "kernelspec": {
   "display_name": "Python 3 (ipykernel)",
   "language": "python",
   "name": "python3"
  },
  "language_info": {
   "codemirror_mode": {
    "name": "ipython",
    "version": 3
   },
   "file_extension": ".py",
   "mimetype": "text/x-python",
   "name": "python",
   "nbconvert_exporter": "python",
   "pygments_lexer": "ipython3",
   "version": "3.9.12"
  }
 },
 "nbformat": 4,
 "nbformat_minor": 5
}
