{
 "cells": [
  {
   "cell_type": "code",
   "execution_count": 1,
   "id": "9328fbf4",
   "metadata": {},
   "outputs": [],
   "source": [
    "#importing required libraries\n",
    "from selenium import webdriver\n",
    "from selenium.webdriver.common.by import By\n",
    "from selenium.webdriver.edge.service import Service\n",
    "from webdriver_manager.microsoft import EdgeChromiumDriverManager\n",
    "import time\n",
    "import pandas as pd\n",
    "from bs4 import BeautifulSoup"
   ]
  },
  {
   "cell_type": "code",
   "execution_count": 2,
   "id": "831e7063",
   "metadata": {},
   "outputs": [],
   "source": [
    "s = Service(\"C:\\msedgedriver.exe\")\n",
    "driver = webdriver.Edge(service= s)\n",
    "driver.get(\"https://stats.espncricinfo.com/ci/engine/records/team/match_results.html?id=2022%2F23;trophy=89;type=season\")\n",
    "#page url we need to scrape\n",
    "driver.maximize_window()"
   ]
  },
  {
   "cell_type": "code",
   "execution_count": 3,
   "id": "bdea5e94",
   "metadata": {},
   "outputs": [],
   "source": [
    "soup = BeautifulSoup(driver.page_source, 'lxml') #parsing the webpage"
   ]
  },
  {
   "cell_type": "code",
   "execution_count": 4,
   "id": "f8f9ae02",
   "metadata": {},
   "outputs": [],
   "source": [
    "all_data = soup.find_all(\"tr\",{\"class\":\"data1\"}) #class continer which contains all the required data"
   ]
  },
  {
   "cell_type": "code",
   "execution_count": 5,
   "id": "5658bf0c",
   "metadata": {},
   "outputs": [],
   "source": [
    "Match_id= []\n",
    "Team1= []\n",
    "Team2= []\n",
    "for data in all_data:\n",
    "    n= data.find_all(\"td\",{\"nowrap\":\"nowrap\"})\n",
    "    x = [i.text for i in n]\n",
    "    Team1.append(x[0])\n",
    "    Team2.append(x[1])\n",
    "    Match_id.append(x[5])\n",
    "#scraping match_id, Team1 and Team2    "
   ]
  },
  {
   "cell_type": "code",
   "execution_count": 6,
   "id": "8dfa7cbf",
   "metadata": {},
   "outputs": [],
   "source": [
    "teams=[]\n",
    "for i in range(0,45):\n",
    "    k= Team1[i]+\" vs \"+Team2[i]\n",
    "    teams.append(k)   \n",
    "#concatenating teams    "
   ]
  },
  {
   "cell_type": "code",
   "execution_count": null,
   "id": "c1c1364a",
   "metadata": {},
   "outputs": [],
   "source": [
    "bowling_df= pd.DataFrame()\n",
    "vs_teams = []\n",
    "total_match_id = []\n",
    "for i in range(0,45): #iterating till the total number of matches played\n",
    "    driver.find_element(By.XPATH, f'//*[@id=\"ciHomeContentlhs\"]/div[3]/div/table[1]/tbody/tr[{i+1}]/td[7]/a').click()\n",
    "    time.sleep(1)\n",
    "    data= pd.read_html(f\"{driver.current_url}\")\n",
    "    \n",
    "    try:\n",
    "        first_team_bowler= data[1]\n",
    "        first_team_bowler= first_team_bowler[first_team_bowler[['BOWLING','O','M','R','W','ECON','0s','4s','6s','WD','NB']].nunique(axis=1) != 1]\n",
    "        second_team_bowler= data[3]\n",
    "        second_team_bowler= second_team_bowler[second_team_bowler[['BOWLING','O','M','R','W','ECON','0s','4s','6s','WD','NB']].nunique(axis=1) != 1]\n",
    "        bowling_df= pd.concat([bowling_df,first_team_bowler])\n",
    "        bowling_df= pd.concat([bowling_df,second_team_bowler])\n",
    "        \n",
    "        for value in range(len(first_team_bowler)+len(second_team_bowler)):\n",
    "            vs_teams.append(teams[i])\n",
    "            total_match_id.append(Match_id[i])\n",
    "            \n",
    "    except:\n",
    "        pass\n",
    "    driver.back()\n",
    "    time.sleep(1)\n",
    "    \n",
    "  "
   ]
  },
  {
   "cell_type": "code",
   "execution_count": null,
   "id": "5599f5b1",
   "metadata": {},
   "outputs": [],
   "source": [
    "#len(vs_teams)\n",
    "#len(bowling_df)\n",
    "len(total_match_id)"
   ]
  },
  {
   "cell_type": "code",
   "execution_count": null,
   "id": "bde19339",
   "metadata": {},
   "outputs": [],
   "source": [
    "bowling_df"
   ]
  },
  {
   "cell_type": "code",
   "execution_count": null,
   "id": "491014fc",
   "metadata": {},
   "outputs": [],
   "source": [
    "bowling_df.insert(loc=0, column=\"Match\",value= vs_teams, allow_duplicates= False)\n",
    "bowling_df.insert(loc=1, column=\"Match_id\",value= total_match_id, allow_duplicates= False)\n",
    "#added new columns to bowling dataframe"
   ]
  },
  {
   "cell_type": "code",
   "execution_count": null,
   "id": "258517cf",
   "metadata": {},
   "outputs": [],
   "source": [
    "bowling_df.head(5)"
   ]
  },
  {
   "cell_type": "code",
   "execution_count": null,
   "id": "ae55d6fd",
   "metadata": {},
   "outputs": [],
   "source": [
    "bowling_df.reset_index(drop=True, inplace=True)\n",
    "#resetting index"
   ]
  },
  {
   "cell_type": "code",
   "execution_count": null,
   "id": "886c8140",
   "metadata": {},
   "outputs": [],
   "source": [
    "bowling_df.head(5)"
   ]
  },
  {
   "cell_type": "code",
   "execution_count": null,
   "id": "124df9d6",
   "metadata": {},
   "outputs": [],
   "source": [
    "#bowling_df.to_csv(\"C:\\\\Users\\\\Gurjeet\\\\Desktop\\\\End to End Cricket Analytics Project\\\\Webscraped Files\\\\fact_bowling.csv\",encoding=\"utf-8-sig\")"
   ]
  },
  {
   "cell_type": "code",
   "execution_count": null,
   "id": "9249d800",
   "metadata": {},
   "outputs": [],
   "source": [
    "#driver.close()"
   ]
  }
 ],
 "metadata": {
  "kernelspec": {
   "display_name": "Python 3 (ipykernel)",
   "language": "python",
   "name": "python3"
  },
  "language_info": {
   "codemirror_mode": {
    "name": "ipython",
    "version": 3
   },
   "file_extension": ".py",
   "mimetype": "text/x-python",
   "name": "python",
   "nbconvert_exporter": "python",
   "pygments_lexer": "ipython3",
   "version": "3.9.12"
  }
 },
 "nbformat": 4,
 "nbformat_minor": 5
}
